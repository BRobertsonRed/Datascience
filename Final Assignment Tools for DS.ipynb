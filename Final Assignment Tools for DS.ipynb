{
 "cells": [
  {
   "cell_type": "markdown",
   "metadata": {},
   "source": [
    "<center>\n",
    "    <img src=\"https://s3-api.us-geo.objectstorage.softlayer.net/cf-courses-data/CognitiveClass/Logos/organization_logo/organization_logo.png\" width=\"300\" alt=\"cognitiveclass.ai logo\"  />\n",
    "</center>\n"
   ]
  },
  {
   "cell_type": "markdown",
   "metadata": {},
   "source": [
    "#### Add your code below following the instructions given in the course\n"
   ]
  },
  {
   "cell_type": "markdown",
   "metadata": {},
   "source": [
    "# My Jupyter Notebook on IBM Watson Studio"
   ]
  },
  {
   "cell_type": "markdown",
   "metadata": {},
   "source": [
    "**Brian Robertson**"
   ]
  },
  {
   "cell_type": "markdown",
   "metadata": {},
   "source": [
    "Desired Occupation: Insights Data Scientist"
   ]
  },
  {
   "cell_type": "markdown",
   "metadata": {},
   "source": [
    "*I am interested in data science because I have always been fascinated by data and storytelling in the world around me. This was the perfect next step for me career wise with my multiple interests.*"
   ]
  },
  {
   "cell_type": "markdown",
   "metadata": {},
   "source": [
    "### The following code is going to be rather simple, just going to calculate how much sleep I have been missing since my daughter was born. "
   ]
  },
  {
   "cell_type": "markdown",
   "metadata": {},
   "source": [
    "She is currently 127 days old, and I only average 4 hours of sleep a day. "
   ]
  },
  {
   "cell_type": "code",
   "execution_count": 11,
   "metadata": {},
   "outputs": [],
   "source": [
    "a = 127 * 4 "
   ]
  },
  {
   "cell_type": "code",
   "execution_count": 15,
   "metadata": {},
   "outputs": [
    {
     "name": "stdout",
     "output_type": "stream",
     "text": [
      "508\n"
     ]
    }
   ],
   "source": [
    "print(a)"
   ]
  },
  {
   "cell_type": "markdown",
   "metadata": {},
   "source": [
    "1. The greatest glory in living lies not in never falling, but in rising every time we fall. -Nelson Mandela\n",
    "> The way to get started is to quit talking and begin doing. -Walt Disney\n",
    "2. Your time is limited, so don't waste it living someone else's life. Don't be trapped by dogma – which is living with the results of other people's thinking. -Steve Jobs\n",
    ">> If life were predictable it would cease to be life, and be without flavor. -Eleanor Roosevelt\n",
    "3. If you look at what you have in life, you'll always have more. If you look at what you don't have in life, you'll never have enough. -Oprah Winfrey\n",
    ">>> If you set your goals ridiculously high and it's a failure, you will fail above everyone else's success. -James Cameron\n",
    "4. Life is what happens when you're busy making other plans. -John Lennon\n",
    "\n",
    "![] (https://assets.newatlas.com/dims4/default/36c89f6/2147483647/strip/true/crop/5000x3502+0+0/resize/2880x2017!/quality/90/?url=http%3A%2F%2Fnewatlas-brightspot.s3.amazonaws.com%2F3e%2Fe8%2F80356654422882922496192fc567%2Fveil-nebula.jpeg)\n"
   ]
  },
  {
   "cell_type": "markdown",
   "metadata": {},
   "source": [
    "1. The greatest glory in living lies not in never falling, but in rising every time we fall. -Nelson Mandela\n",
    "> The way to get started is to quit talking and begin doing. -Walt Disney\n",
    "2. Your time is limited, so don't waste it living someone else's life. Don't be trapped by dogma – which is living with the results of other people's thinking. -Steve Jobs\n",
    ">> If life were predictable it would cease to be life, and be without flavor. -Eleanor Roosevelt\n",
    "3. If you look at what you have in life, you'll always have more. If you look at what you don't have in life, you'll never have enough. -Oprah Winfrey\n",
    " >>> If you set your goals ridiculously high and it's a failure, you will fail above everyone else's success. -James Cameron\n",
    "4. Life is what happens when you're busy making other plans. -John Lennon\n",
    "\n",
    "[To the Stars] (https://assets.newatlas.com/dims4/default/36c89f6/2147483647/strip/true/crop/5000x3502+0+0/resize/2880x2017!/quality/90/?url=http%3A%2F%2Fnewatlas-brightspot.s3.amazonaws.com%2F3e%2Fe8%2F80356654422882922496192fc567%2Fveil-nebula.jpeg )\n"
   ]
  },
  {
   "cell_type": "markdown",
   "metadata": {},
   "source": [
    "1. The greatest glory in living lies not in never falling, but in rising every time we fall. -Nelson Mandela\n",
    "> The way to get started is to quit talking and begin doing. -Walt Disney\n",
    "2. Your time is limited, so don't waste it living someone else's life. Don't be trapped by dogma – which is living with the results of other people's thinking. -Steve Jobs\n",
    ">> If life were predictable it would cease to be life, and be without flavor. -Eleanor Roosevelt\n",
    "3. If you look at what you have in life, you'll always have more. If you look at what you don't have in life, you'll never have enough. -Oprah Winfrey\n",
    ">>> If you set your goals ridiculously high and it's a failure, you will fail above everyone else's success. -James Cameron\n",
    "4. Life is what happens when you're busy making other plans. -John Lennon\n",
    "\n",
    "[click me] https://www.google.com/url?sa=i&url=https%3A%2F%2Fwww.nasa.gov%2Fpress-release%2Fnasa-reveals-webb-telescope-s-first-images-of-unseen-universe&psig=AOvVaw0hczirPExoS4e5Yl00JDpp&ust=1668285148076000&source=images&cd=vfe&ved=0CA8QjRxqFwoTCMiZ9c78pvsCFQAAAAAdAAAAABAE \n"
   ]
  },
  {
   "cell_type": "markdown",
   "metadata": {},
   "source": [
    "1. The greatest glory in living lies not in never falling, but in rising every time we fall. -Nelson Mandela\n",
    "> The way to get started is to quit talking and begin doing. -Walt Disney\n",
    "2. Your time is limited, so don't waste it living someone else's life. Don't be trapped by dogma – which is living with the results of other people's thinking. -Steve Jobs\n",
    ">> If life were predictable it would cease to be life, and be without flavor. -Eleanor Roosevelt\n",
    "3. If you look at what you have in life, you'll always have more. If you look at what you don't have in life, you'll never have enough. -Oprah Winfrey\n",
    " >>> If you set your goals ridiculously high and it's a failure, you will fail above everyone else's success. -James Cameron\n",
    "4. Life is what happens when you're busy making other plans. -John Lennon\n",
    "<a href=\"https://www.google.com/url?sa=i&url=https%3A%2F%2Fwww.nasa.gov%2Fpress-release%2Fnasa-reveals-webb-telescope-s-first-images-of-unseen-universe&psig=AOvVaw0hczirPExoS4e5Yl00JDpp&ust=1668285148076000&source=images&cd=vfe&ved=0CA8QjRxqFwoTCMiZ9c78pvsCFQAAAAAdAAAAABAE\">To the Universe</a>\n"
   ]
  }
 ],
 "metadata": {
  "kernelspec": {
   "display_name": "Python",
   "language": "python",
   "name": "conda-env-python-py"
  },
  "language_info": {
   "codemirror_mode": {
    "name": "ipython",
    "version": 3
   },
   "file_extension": ".py",
   "mimetype": "text/x-python",
   "name": "python",
   "nbconvert_exporter": "python",
   "pygments_lexer": "ipython3",
   "version": "3.7.12"
  }
 },
 "nbformat": 4,
 "nbformat_minor": 4
}
